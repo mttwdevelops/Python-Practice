{
 "cells": [
  {
   "cell_type": "markdown",
   "metadata": {},
   "source": [
    "# Data Base Breach Analysis\n",
    "\n",
    "@mttwdevelops\n",
    "\n",
    "August 11, 2022\n",
    "\n",
    "Data Source: https://en.wikipedia.org/wiki/List_of_data_breaches\n",
    "Data Scraped From: "
   ]
  }
 ],
 "metadata": {
  "language_info": {
   "name": "python"
  },
  "orig_nbformat": 4
 },
 "nbformat": 4,
 "nbformat_minor": 2
}
