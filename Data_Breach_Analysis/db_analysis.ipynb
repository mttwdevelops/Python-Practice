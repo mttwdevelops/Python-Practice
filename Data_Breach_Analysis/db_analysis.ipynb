{
 "cells": [
  {
   "cell_type": "markdown",
   "metadata": {},
   "source": [
    "# Data Base Breach Analysis\n",
    "\n",
    "@mttwdevelops\n",
    "\n",
    "August 11, 2022\n",
    "\n",
    "**Data Source**: https://en.wikipedia.org/wiki/List_of_data_breaches\n",
    "\n",
    "**Source Scraper**: https://github.com/mttwdevelops/Practice-Files/blob/master/Data_Breach_Analysis/db_breach_webscrape.py\n",
    "\n",
    "The topic of this analysis is on largely-public database breaches recorded between the years of 2004 to now. \n",
    "\n",
    "The scope of this analysis is to look at different variables from the data such as *Organization type*, *Method*, *Records*, and *Year* to identify any common patterns or interesting outliers, and propose ways that consumers can minimize further leaks of their consumer data.\n",
    "\n",
    "It is important that I stress that one can *minimize* the ways that one can be hacked but whether or not an entity gets hacked is often out of the hands of just a single consumer. This means that one cannot *entirely prevent* getting their personal information leaked, unless they exist totally \"off the grid.\" Understandably, this is extremely difficult to do in the current age, as most social interaction, payments, and way of life is hosted entirely online.\n",
    "\n",
    "The scraper file is provided above, and can be run at any time before running this file to get an up-to-date listing of publically-published data breaches. \n",
    "\n",
    "For any further questions on the data source's sources, refer to the provided **Data Source** link provided."
   ]
  },
  {
   "cell_type": "code",
   "execution_count": 1,
   "metadata": {},
   "outputs": [],
   "source": [
    "# Libraries imported:\n",
    "import matplotlib.pyplot as plt\n",
    "from natsort import natsorted\n",
    "import seaborn as sns\n",
    "import pandas as pd\n",
    "import numpy as np\n",
    "# import re\n",
    "from re import search"
   ]
  },
  {
   "cell_type": "code",
   "execution_count": 2,
   "metadata": {},
   "outputs": [
    {
     "data": {
      "text/html": [
       "<div>\n",
       "<style scoped>\n",
       "    .dataframe tbody tr th:only-of-type {\n",
       "        vertical-align: middle;\n",
       "    }\n",
       "\n",
       "    .dataframe tbody tr th {\n",
       "        vertical-align: top;\n",
       "    }\n",
       "\n",
       "    .dataframe thead th {\n",
       "        text-align: right;\n",
       "    }\n",
       "</style>\n",
       "<table border=\"1\" class=\"dataframe\">\n",
       "  <thead>\n",
       "    <tr style=\"text-align: right;\">\n",
       "      <th></th>\n",
       "      <th>Unnamed: 0</th>\n",
       "      <th>Entity</th>\n",
       "      <th>Year</th>\n",
       "      <th>Records</th>\n",
       "      <th>Organization type</th>\n",
       "      <th>Method</th>\n",
       "      <th>Sources</th>\n",
       "    </tr>\n",
       "  </thead>\n",
       "  <tbody>\n",
       "    <tr>\n",
       "      <th>0</th>\n",
       "      <td>0</td>\n",
       "      <td>21st Century Oncology</td>\n",
       "      <td>2016</td>\n",
       "      <td>2200000</td>\n",
       "      <td>healthcare</td>\n",
       "      <td>hacked</td>\n",
       "      <td>[5][6]</td>\n",
       "    </tr>\n",
       "    <tr>\n",
       "      <th>1</th>\n",
       "      <td>1</td>\n",
       "      <td>500px</td>\n",
       "      <td>2020</td>\n",
       "      <td>14870304</td>\n",
       "      <td>social networking</td>\n",
       "      <td>hacked</td>\n",
       "      <td>[7]</td>\n",
       "    </tr>\n",
       "    <tr>\n",
       "      <th>2</th>\n",
       "      <td>2</td>\n",
       "      <td>Accendo Insurance Co.</td>\n",
       "      <td>2020</td>\n",
       "      <td>175350</td>\n",
       "      <td>healthcare</td>\n",
       "      <td>poor security</td>\n",
       "      <td>[8][9]</td>\n",
       "    </tr>\n",
       "    <tr>\n",
       "      <th>3</th>\n",
       "      <td>3</td>\n",
       "      <td>Adobe Systems Incorporated</td>\n",
       "      <td>2013</td>\n",
       "      <td>152000000</td>\n",
       "      <td>tech</td>\n",
       "      <td>hacked</td>\n",
       "      <td>[10]</td>\n",
       "    </tr>\n",
       "    <tr>\n",
       "      <th>4</th>\n",
       "      <td>4</td>\n",
       "      <td>Adobe Inc.</td>\n",
       "      <td>2019</td>\n",
       "      <td>7500000</td>\n",
       "      <td>tech</td>\n",
       "      <td>poor security</td>\n",
       "      <td>[11][12]</td>\n",
       "    </tr>\n",
       "  </tbody>\n",
       "</table>\n",
       "</div>"
      ],
      "text/plain": [
       "   Unnamed: 0                      Entity  Year    Records  Organization type  \\\n",
       "0           0       21st Century Oncology  2016    2200000         healthcare   \n",
       "1           1                       500px  2020   14870304  social networking   \n",
       "2           2       Accendo Insurance Co.  2020     175350         healthcare   \n",
       "3           3  Adobe Systems Incorporated  2013  152000000               tech   \n",
       "4           4                  Adobe Inc.  2019    7500000               tech   \n",
       "\n",
       "          Method   Sources  \n",
       "0         hacked    [5][6]  \n",
       "1         hacked       [7]  \n",
       "2  poor security    [8][9]  \n",
       "3         hacked      [10]  \n",
       "4  poor security  [11][12]  "
      ]
     },
     "execution_count": 2,
     "metadata": {},
     "output_type": "execute_result"
    }
   ],
   "source": [
    "# Importing the data (refer to db_breach_webscrape.py):\n",
    "df = pd.read_csv(\"databreachleaks.csv\")\n",
    "df.head()\n",
    "# df.describe"
   ]
  },
  {
   "cell_type": "markdown",
   "metadata": {},
   "source": [
    "It seems that we have extra columns named \"Unnamed: 0\" and \"Sources.\" Again, any questions on the data source's sources (public articles, press reports, news releases, etc.)can be found from the **Data Source** link.\n",
    "\n",
    "Let us fix that now."
   ]
  },
  {
   "cell_type": "code",
   "execution_count": 3,
   "metadata": {},
   "outputs": [
    {
     "data": {
      "text/plain": [
       "['Entity', 'Year', 'Records', 'Organization type', 'Method']"
      ]
     },
     "execution_count": 3,
     "metadata": {},
     "output_type": "execute_result"
    }
   ],
   "source": [
    "df.drop(columns = [\"Unnamed: 0\", \"Sources\"], axis = 1, inplace = True)\n",
    "# the inplace setting means we don't have to reassign df\n",
    "list(df.columns)"
   ]
  },
  {
   "cell_type": "markdown",
   "metadata": {},
   "source": [
    "## Exploratory Data Analysis"
   ]
  },
  {
   "cell_type": "code",
   "execution_count": 4,
   "metadata": {},
   "outputs": [
    {
     "name": "stdout",
     "output_type": "stream",
     "text": [
      "['hacked' 'poor security' 'lost / stolen media' 'accidentally published'\n",
      " 'inside job, hacked' 'lost / stolen computer' 'unknown'\n",
      " 'unsecured S3 bucket' 'inside job' nan 'accidentally uploaded'\n",
      " 'poor security / hacked' 'Poor security' 'unprotected api'\n",
      " 'poor security/inside job' 'data exposed by misconfiguration'\n",
      " 'zero-day vulnerabilities' 'intentionally lost'\n",
      " 'misconfiguration/poor security' 'ransomware hacked' 'rogue contractor'\n",
      " 'improper setting, hacked' 'hacked/misconfiguration'\n",
      " 'publicly accessible Amazon Web Services (AWS) server'\n",
      " 'accidentally exposed' 'social engineering']\n"
     ]
    },
    {
     "data": {
      "text/plain": [
       "Entity               object\n",
       "Year                 object\n",
       "Records              object\n",
       "Organization type    object\n",
       "Method               object\n",
       "dtype: object"
      ]
     },
     "execution_count": 4,
     "metadata": {},
     "output_type": "execute_result"
    }
   ],
   "source": [
    "# Let us look at the different methods of breaches\n",
    "print(df[\"Method\"].unique())\n",
    "df[\"Method\"].value_counts()\n",
    "df.dtypes"
   ]
  },
  {
   "cell_type": "code",
   "execution_count": 5,
   "metadata": {},
   "outputs": [
    {
     "data": {
      "image/png": "[encoded data removed]",
      "text/plain": [
       "<Figure size 432x288 with 1 Axes>"
      ]
     },
     "metadata": {
      "needs_background": "light"
     },
     "output_type": "display_data"
    }
   ],
   "source": [
    "# Method\n",
    "sns.set(style = \"darkgrid\")\n",
    "ax = sns.countplot(y=\"Method\", data = df)"
   ]
  },
  {
   "cell_type": "markdown",
   "metadata": {},
   "source": [
    "I find this very interesting that nearly twenty or so breach cases are inside jobs. The others, such as being hacked or poor security and losing a company laptop are not too surprising, but perhaps the inside job should be looked at from a case-by-case basis."
   ]
  },
  {
   "cell_type": "code",
   "execution_count": 6,
   "metadata": {},
   "outputs": [
    {
     "data": {
      "image/png": "[encoded data removed]",
      "text/plain": [
       "<Figure size 432x288 with 1 Axes>"
      ]
     },
     "metadata": {
      "needs_background": "light"
     },
     "output_type": "display_data"
    }
   ],
   "source": [
    "# Year\n",
    "df[\"Year\"].unique()\n",
    "df[\"Year\"] = natsorted(df[\"Year\"])\n",
    "ax = sns.countplot(y=\"Year\", data = df)"
   ]
  },
  {
   "cell_type": "code",
   "execution_count": 7,
   "metadata": {},
   "outputs": [
    {
     "data": {
      "text/plain": [
       "web                           53\n",
       "healthcare                    47\n",
       "financial                     38\n",
       "government                    30\n",
       "retail                        27\n",
       "                              ..\n",
       "humanitarian                   1\n",
       "special public corporation     1\n",
       "shopping                       1\n",
       "local search                   1\n",
       "various                        1\n",
       "Name: Organization type, Length: 70, dtype: int64"
      ]
     },
     "execution_count": 7,
     "metadata": {},
     "output_type": "execute_result"
    }
   ],
   "source": [
    "# Organization type\n",
    "df[\"Organization type\"].unique()\n",
    "df[\"Organization type\"].value_counts()\n",
    "\n",
    "## Included code for testing\n",
    "# org_count = pd.DataFrame(data = x, columns=[\"Org_Type\", \"Count\"])\n",
    "# org_count.columns = [\"Org_Type\", \"Count\"]\n",
    "# print(org_count)\n",
    "# ax = sns.countplot(y=\"Organization type\", data = df) \n",
    "# print(org_count[1]) # returns 47\n",
    "# print(org_count.values)\n",
    "# print(org_count)\n",
    "# org_count = org_count.rename(columns = {\"OrgType\" : \"Organization Type\", \"Count\" : \"\"})\n",
    "# org_count.dtypes\n",
    "# ax = sns.countplot(data = x)\n",
    "# print(list(org_count.columns))"
   ]
  },
  {
   "cell_type": "code",
   "execution_count": 8,
   "metadata": {},
   "outputs": [
    {
     "data": {
      "text/plain": [
       "<AxesSubplot:xlabel='Records', ylabel='Density'>"
      ]
     },
     "execution_count": 8,
     "metadata": {},
     "output_type": "execute_result"
    },
    {
     "data": {
      "image/png": "[encoded data removed]",
      "text/plain": [
       "<Figure size 432x288 with 1 Axes>"
      ]
     },
     "metadata": {
      "needs_background": "light"
     },
     "output_type": "display_data"
    }
   ],
   "source": [
    "# Records\n",
    "df[\"Records\"].unique()\n",
    "df_records_num = pd.to_numeric(df[\"Records\"], errors = \"coerce\")\n",
    "# df_records_num = df.loc[df.Records.isnumeric()]\n",
    "df_records_num.describe\n",
    "sns.kdeplot(data = df_records_num, cut=0) # NOT DONE!!!"
   ]
  },
  {
   "cell_type": "markdown",
   "metadata": {},
   "source": [
    "We should note that the previous plot's scale is in billions, so 0.5 along the y-axis is equal to 500 million.\n",
    "\n",
    "Essentially, the graph notes that an overwhelming amount of the breaches have individually leaked less than 500 million records."
   ]
  },
  {
   "cell_type": "markdown",
   "metadata": {},
   "source": [
    "While looking at the data source as a table, I found it unsurprising that categories such as governments, financial services, and healthcare comapnies would cover a large portion of breaches, evident from the *Organization Type* variable's count listing. These breached records would contain information regarding typically older demographics, such as adults and the elderly, most of whom with established credit and medical histories. This would be valuable, uniquely-identifiable information for identity theft. Government leaks are typically specific weapons, combat, or organizational documents, often released through Wikileaks.\n",
    "\n",
    "What I did find interesting is not only the number of breaches but how much data comes from social media and entertainment sector leaks.\n",
    "\n",
    "We will look at that later on, but for now let's dive into the numbers of records leaked."
   ]
  },
  {
   "cell_type": "code",
   "execution_count": 9,
   "metadata": {},
   "outputs": [
    {
     "data": {
      "text/plain": [
       "None"
      ]
     },
     "metadata": {},
     "output_type": "display_data"
    },
    {
     "data": {
      "text/html": [
       "<div>\n",
       "<style scoped>\n",
       "    .dataframe tbody tr th:only-of-type {\n",
       "        vertical-align: middle;\n",
       "    }\n",
       "\n",
       "    .dataframe tbody tr th {\n",
       "        vertical-align: top;\n",
       "    }\n",
       "\n",
       "    .dataframe thead th {\n",
       "        text-align: right;\n",
       "    }\n",
       "</style>\n",
       "<table border=\"1\" class=\"dataframe\">\n",
       "  <thead>\n",
       "    <tr style=\"text-align: right;\">\n",
       "      <th></th>\n",
       "      <th>Records</th>\n",
       "    </tr>\n",
       "    <tr>\n",
       "      <th>Organization type</th>\n",
       "      <th></th>\n",
       "    </tr>\n",
       "  </thead>\n",
       "  <tbody>\n",
       "    <tr>\n",
       "      <th>Clinical Laboratory</th>\n",
       "      <td>11900000.0</td>\n",
       "    </tr>\n",
       "    <tr>\n",
       "      <th>Consumer Goods</th>\n",
       "      <td>150000000.0</td>\n",
       "    </tr>\n",
       "    <tr>\n",
       "      <th>Information Security</th>\n",
       "      <td>0.0</td>\n",
       "    </tr>\n",
       "    <tr>\n",
       "      <th>Network Monitoring</th>\n",
       "      <td>0.0</td>\n",
       "    </tr>\n",
       "    <tr>\n",
       "      <th>QR code payment</th>\n",
       "      <td>20076016.0</td>\n",
       "    </tr>\n",
       "  </tbody>\n",
       "</table>\n",
       "</div>"
      ],
      "text/plain": [
       "                          Records\n",
       "Organization type                \n",
       "Clinical Laboratory    11900000.0\n",
       "Consumer Goods        150000000.0\n",
       "Information Security          0.0\n",
       "Network Monitoring            0.0\n",
       "QR code payment        20076016.0"
      ]
     },
     "execution_count": 9,
     "metadata": {},
     "output_type": "execute_result"
    }
   ],
   "source": [
    "df[\"Organization type\"].value_counts()\n",
    "df.head()\n",
    "df_records_calc = df\n",
    "df_records_calc[\"Records\"] = pd.to_numeric(df[\"Records\"], errors = \"coerce\")\n",
    "record_agg = df_records_calc.groupby([\"Organization type\"]).agg({\"Records\" : \"sum\"})\n",
    "display(record_agg.to_csv(\"./org_type_aggreg_leak.csv\"))\n",
    "\n",
    "record_agg.head()"
   ]
  },
  {
   "cell_type": "markdown",
   "metadata": {},
   "source": [
    "There is now a *org_type_aggreg_leak.csv* file that is available. This contains the previous table but in its entirety if you are interested. \n",
    "\n",
    "I did set any non-numerical values in the *Records* column to 0.0, for instance, when referring to the original table, the \"unknown\" value would become 0.0.\n",
    "\n",
    "Non-numeric values are:\n",
    "- unknown / undisclosed\n",
    "- Source code compromised\n",
    "- Leaked data volumes (in GB / TB / stores)\n",
    "- Category of individuals (G20 world leaders)\n",
    "\n",
    "Looking at the file, I notice a few different categories of services that can be aggreggated together further. Let me handle that here."
   ]
  },
  {
   "cell_type": "code",
   "execution_count": 10,
   "metadata": {},
   "outputs": [
    {
     "name": "stdout",
     "output_type": "stream",
     "text": [
      "11900000.0\n",
      "Clinical Laboratory\n",
      "13363731650.0\n"
     ]
    }
   ],
   "source": [
    "record_agg = pd.read_csv(\"./org_type_aggreg_leak.csv\")\n",
    "\n",
    "# Testing how to access individual records\n",
    "print(record_agg.iloc[0,:][\"Records\"]) # prints the first record's total\n",
    "print(record_agg.loc[0, \"Organization type\"])\n",
    "# print(record_agg.iloc[0,:][\"Name\"])\n",
    "\n",
    "# This returns the total records leaked for all organizations\n",
    "total = 0\n",
    "for i in range(len(record_agg)):\n",
    "    total += record_agg[\"Records\"][i]\n",
    "\n",
    "print(total)\n"
   ]
  },
  {
   "cell_type": "code",
   "execution_count": 13,
   "metadata": {},
   "outputs": [
    {
     "name": "stdout",
     "output_type": "stream",
     "text": [
      "384707972\n"
     ]
    }
   ],
   "source": [
    "# String Search to Total Records Calculator\n",
    "numb = 0\n",
    "for i in range(len(record_agg)):\n",
    "    if record_agg[\"Organization type\"][i].__contains__(\"retail\"):\n",
    "        # print(i) # used to check index, but need to add +2 per index when looking at org_type_aggreg_leak.csv\n",
    "        numb += int(record_agg.iloc[i,:][\"Records\"])\n",
    "        \n",
    "print(numb) \n",
    "\n",
    "# 13,363,731,650+ total records leaked\n",
    "# 109,013,224 military records leaked\n",
    "# 1,866,716,083 healthcare records leaked\n",
    "# 204,973,989+ gaming or gambling records have been leaked\n",
    "# 1,298,870,304+ social media records leaked\n",
    "# 5,262,559,516+ web records leaked, some of which are other social media and retail sites\n",
    "#   but will be left as separate categories for simplicity\n"
   ]
  },
  {
   "cell_type": "code",
   "execution_count": 12,
   "metadata": {},
   "outputs": [
    {
     "data": {
      "text/plain": [
       "None"
      ]
     },
     "metadata": {},
     "output_type": "display_data"
    },
    {
     "name": "stdout",
     "output_type": "stream",
     "text": [
      "6054459\n"
     ]
    }
   ],
   "source": [
    "# For Insider job analysis (Method)\n",
    "df_insider = df \n",
    "df_insider[\"Records\"] = pd.to_numeric(df_insider[\"Records\"], errors = \"coerce\")\n",
    "display(df_insider.to_csv(\"./df_insider.csv\"))\n",
    "\n",
    "numb = 0\n",
    "for i in range(len(df_insider)):\n",
    "    if search(\"social engineering\", str(df_insider[\"Method\"][i])):\n",
    "        try: \n",
    "            numb += int(df_insider.iloc[i,:][\"Records\"])\n",
    "        except:\n",
    "            numb += 0\n",
    "print(numb)\n",
    "\n",
    "## For testing purposes\n",
    "# print(type(df[\"Method\"][10]))\n",
    "# print(len(df))\n",
    "# df_insider.iloc[10,:][\"Records\"]\n"
   ]
  },
  {
   "cell_type": "markdown",
   "metadata": {},
   "source": [
    "I used the previous block of code to search for record leak subtotals within the dataframe for various industries. This returns some interesting results.\n",
    "\n",
    "The total of social media and gaming / gambling leaks is quite high, simple math shows that roughly over eleven percent of total leaked records stem from those two industries alone. "
   ]
  },
  {
   "cell_type": "markdown",
   "metadata": {},
   "source": [
    "## Findings and Explanations"
   ]
  },
  {
   "cell_type": "markdown",
   "metadata": {},
   "source": [
    "As this is the notebook and not the condensred report found from the project's readme.md, I will include a lot more digging and leads than what will appear on the readme. Not everything found here will be immediately actionable, but rather may be either interesting observations or patterns that may warrant further analysis and research in the future."
   ]
  },
  {
   "cell_type": "markdown",
   "metadata": {},
   "source": [
    "### Shopping for Handbags and Account Information\n",
    "\n",
    "There appears to be 384,707,972 retail records that have been leaked, with about a third of them coming from Target's 2013 massive breach. This includes about 40 million accounts with credit and debit card information. The hack appears to have happened due to third-party vendor access accidentally allowing access to Target's own personal network, although credit card chip issues appear to also be at fault. Credit card chip technology has advanced since the breach, although with contactless cards, neither pins nor signatures are required. This means that physical access to the card is key, although some card companies impose dollar limits for tap payments. \n",
    "\n",
    "TJ Maxx comes in with the second largest leak (supposed largest at the time in 2007) at 94 million records, again with 47.5 million credit and debit cards' information leaked, along with even [driver's license numbers](https://www.nbcnews.com/id/wbna17871485). The culprit? Breacking into the company's Local Access Network (LAN), which was not hard to do due to the company using Wired Equivalent Privacy, which is considered weak for wireless networks.\n",
    "\n",
    "The big takeaways?\n",
    "1. Cash is king.\n",
    "2. Avoid creating accounts with big retailers. You give them your address, credit card information, occasionally at the expense of getting it hacked; doesn't sound like a good deal."
   ]
  },
  {
   "cell_type": "markdown",
   "metadata": {},
   "source": [
    "### Year-Over-Year Hack Counts\n",
    "\n",
    "#### 2011: The Year of the Hacks\n",
    "\n",
    "It comes as no surprise that as time goes on and as the internet keeps growing, more data breaches happen; however, 2011 appears uniqely to have nearly double (except 2004 - 2005) the breaches as its previous year.\n",
    "\n",
    "Notable breaches of this year include plenty of healthcare companies, such as Health Net, NHS, and Tricare, but by far the largest was in the entertainment sector: the infamous PlayStation Network outage along with Steam, Tianya Club, Nexon Korea Corp, Sega, Bethesda, and several Chinese gaming websites all having well over 150 million accounts compromised. Most of these breaches originate from hacks, although the healthcare sector was consistently compromised from lost / stolen computers and media. \n",
    "\n",
    "#### Every Four Years, And Then A Dip?\n",
    "\n",
    "As most of the breaches in the database are from American entities, it would seem likely that American events, such as its elections, would also be prime targets for hackers. Looking at the year-over-year chart in the EDA section - it seems that 2008, 2016, and 2020, all of which are major election years - see more breaches than their following years, 2004 and 2012 being the exception.\n",
    "\n",
    "2012 had major financial breaches, such as 7-Eleven and the Nasdaq reportedly leaking over 160 million entries, along with TD Bank, Global Payments, and banks in Iran also being hacked. \n",
    "\n",
    "2016 notably had a leak from the Democratic National Committee, which contained documents regarding the Clinton's (the Democratic nominee) internal deliberations. On this note, it can be believed that much more cyber-attacks are done on politicians than what is given in the table, which would require a lot more digging and analysis. Perhaps in the future.\n",
    "\n",
    "Besides these leaks, the dataset surprisingly does not feature immediately-related breaches to elections or potential government policy."
   ]
  },
  {
   "cell_type": "markdown",
   "metadata": {},
   "source": [
    "### The Inside Jobs\n",
    "\n",
    "Insider jobs, or when an individual inside an entity, either willingly or un/knowingly releases internal information, either through documents, cached customer records, or otherwise. This means that not all of the records that fall under the \"inside job\" category are malicously released, in fact, besides the previously mentioned Wikileaks government and military document releases, police filings and other government documents are often published unintentionally.\n",
    "\n",
    "Of course, there are instances of financial incentives, such as the largest inside job within the dataset: AOL's database leak in 2004. __[This databreach](https://money.cnn.com/2004/06/23/technology/aol_spam/)__ occured from a software engineer whole stored a list comprising of 92 million AOL customers usernames and sold them for advertising purposes. Other similar cases include 20 million entries from the South Korean Credit Bureau, and 2.5 million entries from Countrywide Financial Corp.\n",
    "\n",
    "But what I find most interesting are the moral reasons why an inside job happens. One that can be found within the data source is from Wikileaks, a 'public service' website that posts government documents meant to educate journalists, activists, and the general public on any internal government (typically US) activities. Or rather, insider \"whistleblowers\" release these documents to Wikileaks, who verify and publish them online. These entries can take up a smaller number of records, with the U.S. Army's classified Iraq War documents and embassy cables leaks totaling to only 0.52% of 'inside job' records. \n",
    "\n",
    "As this style of leaking information can happen for a number of different reasons and methods, prevention is a challenge. Preventing external device connection in entity computer systems, leadership training and commitment to their teams, and constant auditing seem to be ways to help mitigate potential 'retaliation,' but realistically stopping whistleblowing entirely would mean authoritarian-extreme measures in the workplace. "
   ]
  },
  {
   "cell_type": "markdown",
   "metadata": {},
   "source": [
    "### Socially Engineered Into Your Systems\n",
    "\n",
    "Another interesting breach method is social engineering, where an employee of an entity is psychologically manipulated into divulging sensitive information or performing actions in favor of an intruder. In __[this case](https://www.cyberscoop.com/social-engineering-hack-judge-rules-poor-contract-wont-save-american-hosting-company-lawsuits/)__, someone was able to convince the hosting service of an online community website xat.com to be added to the website's own account (on the host) and take control of their servers, downloading account information, and then finally then wipe them. This attack resulted in over 6 million data records to be leaked.\n",
    "\n",
    "Social engineering tends to be known from specific examples such as phishing attacks, scareware, and online impersonation. \n",
    "\n",
    "Some recommendations to combatting social engineering include:\n",
    "1. Use multi-factor authentication when using any online account. Scammers may have your password, but if they do not have access to authorize your account through your set up authenticator application, then they cannot get access to that account - still change your password though.\n",
    "2. Be skeptical of every link in an email. If an email is asking for you to log into your account and they include a link, it's often just better to navigate to the site with a link you have used before or looking up the website and navigating to it rather than clicking links. In that regard, **be skeptical of every email you get..**\n",
    "3. Use common sense. Often times, you don't even need any external antivirus software if you exercise a health dose of common sense.\n",
    "4. **Often times scammers can specifically target individuals to scam based off of publicly-available information, such as where you work, live, or who you associate with. This is called Spear-Phishing. Be cautious of what you put online, even showing up in an old photo wearing a shirt with a company's logo can be used to identify you. Scammers are creative, great hackers moreso than what you can expect.**"
   ]
  },
  {
   "cell_type": "markdown",
   "metadata": {},
   "source": [
    "### The Facebook Problem\n",
    "\n",
    "Yes, this is the part of any security / privacy report that tells you to get rid of Facebook.\n",
    "\n",
    "Of any company, Facebook (now Meta), has had over 1,064,500,000 records leaked since 2013 within five different breaches, with __[Statista reporting](https://www.statista.com/statistics/272014/global-social-networks-ranked-by-number-of-users/)__ that Facebook still has over 2.9 billion monthly active users worldwide, with them also owning WhatsApp, Instagram, and Facebook Messenger (also highly used social media platforms). These breaches stem from two different ways: poor security, and records being \"accidentally published.\" It should be noted that from the collected publicly-sourced data, Facebook leaked records are ***two-thirds*** of total social media record leaks since 2004.\n",
    "\n",
    "Facebook being hacked does not come as a surprise, as it contains as a single entity the largest registry of publically-volunteered information collection on a significant portion of the entire world's population. This social platform transcends international borders, collecting email addresses, phone numbers, and location data while also performing __[facial recognition](https://web.archive.org/web/20160605165148/http://www.theregister.co.uk/2015/11/10/facebook_scans_camera_for_your_friends/)__, __[snooping on phone calls and texts not made on Facebook through \"metadata\"](https://www.theguardian.com/technology/2018/mar/25/facebook-logs-texts-and-calls-users-find-as-they-delete-accounts-cambridge-analytica)__, among *many* other intrusive instances found __[here](https://stallman.org/facebook.html#privacy)__.\n",
    "\n",
    "These actions to gather massive amounts of data on individual users, coupled with Facebook's record of being hacked, is a prime example of the social trend of temporary convenience over true security along with the commercialization of social connection. \n",
    "\n",
    "Arguments against purging Facebook come from the idea of its convenience, while true, comes at a significant price. \n",
    "\n",
    "There are a few recommendations I propose in its place:\n",
    "1. Switching to SMS / texting. While any company that deals with anything related to cell-phones are not to be trusted either, as they provide your information to the government (as evidenced from Edward Snowden's leaks and even further back), removing any potential points of privacy-failure is better. **Side note: it would be ideal to use a gpg-encrypted messaging app instead of SMS, but regardless removing any separate-entity traces of your data is better than none.** Before deleting social media, privately offer any connection on social media your contact information, if they never reach out after, then that connection was never meant to be.\n",
    "2. Being much more conscious and careful about what you put online. Even \"spoofing,\" or faking personal information is okay, but these social media apps still collect your geolocation and sell them to third-parties. This is often stipulated in the Terms of Service (ToS) that you also often skip reading. Faking specific account information but linking it to an email that contains your true identifiable information is a bit awash."
   ]
  }
 ],
 "metadata": {
  "kernelspec": {
   "display_name": "Python 3.9.2 64-bit",
   "language": "python",
   "name": "python3"
  },
  "language_info": {
   "codemirror_mode": {
    "name": "ipython",
    "version": 3
   },
   "file_extension": ".py",
   "mimetype": "text/x-python",
   "name": "python",
   "nbconvert_exporter": "python",
   "pygments_lexer": "ipython3",
   "version": "3.9.2"
  },
  "orig_nbformat": 4,
  "vscode": {
   "interpreter": {
    "hash": "916dbcbb3f70747c44a77c7bcd40155683ae19c65e1c03b4aa3499c5328201f1"
   }
  }
 },
 "nbformat": 4,
 "nbformat_minor": 2
}
