{
 "cells": [
  {
   "cell_type": "markdown",
   "metadata": {},
   "source": [
    "# Female Labor Force Across the Globe Analysis\n",
    "\n",
    "Data source: https://www.kaggle.com/datasets/ankanhore545/female-labour-forceby-age-across-the-globe\n",
    "\n",
    "Analysis started August 10, 2022"
   ]
  },
  {
   "cell_type": "code",
   "execution_count": 1,
   "metadata": {},
   "outputs": [],
   "source": [
    "import pandas as pd\n",
    "import matplotlib.pyplot as plt"
   ]
  },
  {
   "cell_type": "code",
   "execution_count": 5,
   "metadata": {},
   "outputs": [
    {
     "data": {
      "text/html": [
       "<div>\n",
       "<style scoped>\n",
       "    .dataframe tbody tr th:only-of-type {\n",
       "        vertical-align: middle;\n",
       "    }\n",
       "\n",
       "    .dataframe tbody tr th {\n",
       "        vertical-align: top;\n",
       "    }\n",
       "\n",
       "    .dataframe thead th {\n",
       "        text-align: right;\n",
       "    }\n",
       "</style>\n",
       "<table border=\"1\" class=\"dataframe\">\n",
       "  <thead>\n",
       "    <tr style=\"text-align: right;\">\n",
       "      <th></th>\n",
       "      <th>Entity</th>\n",
       "      <th>Code</th>\n",
       "      <th>Year</th>\n",
       "      <th>10-year age bands: 15-24</th>\n",
       "      <th>10-year age bands: 25-34</th>\n",
       "      <th>10-year age bands: 35-44</th>\n",
       "      <th>10-year age bands: 45-54</th>\n",
       "      <th>10-year age bands: 55-64</th>\n",
       "      <th>10-year age bands: 65+</th>\n",
       "    </tr>\n",
       "  </thead>\n",
       "  <tbody>\n",
       "    <tr>\n",
       "      <th>0</th>\n",
       "      <td>Afghanistan</td>\n",
       "      <td>AFG</td>\n",
       "      <td>1990</td>\n",
       "      <td>180160</td>\n",
       "      <td>138376</td>\n",
       "      <td>109704</td>\n",
       "      <td>56359</td>\n",
       "      <td>22076</td>\n",
       "      <td>6834</td>\n",
       "    </tr>\n",
       "    <tr>\n",
       "      <th>1</th>\n",
       "      <td>Afghanistan</td>\n",
       "      <td>AFG</td>\n",
       "      <td>1991</td>\n",
       "      <td>190672</td>\n",
       "      <td>144801</td>\n",
       "      <td>113183</td>\n",
       "      <td>60629</td>\n",
       "      <td>23263</td>\n",
       "      <td>7247</td>\n",
       "    </tr>\n",
       "    <tr>\n",
       "      <th>2</th>\n",
       "      <td>Afghanistan</td>\n",
       "      <td>AFG</td>\n",
       "      <td>1992</td>\n",
       "      <td>204419</td>\n",
       "      <td>153802</td>\n",
       "      <td>118021</td>\n",
       "      <td>66237</td>\n",
       "      <td>25009</td>\n",
       "      <td>7802</td>\n",
       "    </tr>\n",
       "    <tr>\n",
       "      <th>3</th>\n",
       "      <td>Afghanistan</td>\n",
       "      <td>AFG</td>\n",
       "      <td>1993</td>\n",
       "      <td>219225</td>\n",
       "      <td>163689</td>\n",
       "      <td>123168</td>\n",
       "      <td>72263</td>\n",
       "      <td>27052</td>\n",
       "      <td>8454</td>\n",
       "    </tr>\n",
       "    <tr>\n",
       "      <th>4</th>\n",
       "      <td>Afghanistan</td>\n",
       "      <td>AFG</td>\n",
       "      <td>1994</td>\n",
       "      <td>233176</td>\n",
       "      <td>173177</td>\n",
       "      <td>128034,00000000000</td>\n",
       "      <td>77759</td>\n",
       "      <td>29132</td>\n",
       "      <td>9136</td>\n",
       "    </tr>\n",
       "  </tbody>\n",
       "</table>\n",
       "</div>"
      ],
      "text/plain": [
       "        Entity Code  Year 10-year age bands: 15-24 10-year age bands: 25-34  \\\n",
       "0  Afghanistan  AFG  1990                   180160                   138376   \n",
       "1  Afghanistan  AFG  1991                   190672                   144801   \n",
       "2  Afghanistan  AFG  1992                   204419                   153802   \n",
       "3  Afghanistan  AFG  1993                   219225                   163689   \n",
       "4  Afghanistan  AFG  1994                   233176                   173177   \n",
       "\n",
       "  10-year age bands: 35-44 10-year age bands: 45-54 10-year age bands: 55-64  \\\n",
       "0                   109704                    56359                    22076   \n",
       "1                   113183                    60629                    23263   \n",
       "2                   118021                    66237                    25009   \n",
       "3                   123168                    72263                    27052   \n",
       "4       128034,00000000000                    77759                    29132   \n",
       "\n",
       "  10-year age bands: 65+  \n",
       "0                   6834  \n",
       "1                   7247  \n",
       "2                   7802  \n",
       "3                   8454  \n",
       "4                   9136  "
      ]
     },
     "execution_count": 5,
     "metadata": {},
     "output_type": "execute_result"
    }
   ],
   "source": [
    "# need to read data in as a pandas dataframe\n",
    "\n",
    "df = pd.read_csv('./female-labor-force-by-age.csv', sep=';')\n",
    "df.shape # gives dimensions to the data\n",
    "df.head()"
   ]
  }
 ],
 "metadata": {
  "kernelspec": {
   "display_name": "Python 3.9.2 64-bit",
   "language": "python",
   "name": "python3"
  },
  "language_info": {
   "codemirror_mode": {
    "name": "ipython",
    "version": 3
   },
   "file_extension": ".py",
   "mimetype": "text/x-python",
   "name": "python",
   "nbconvert_exporter": "python",
   "pygments_lexer": "ipython3",
   "version": "3.9.2"
  },
  "orig_nbformat": 4,
  "vscode": {
   "interpreter": {
    "hash": "916dbcbb3f70747c44a77c7bcd40155683ae19c65e1c03b4aa3499c5328201f1"
   }
  }
 },
 "nbformat": 4,
 "nbformat_minor": 2
}
